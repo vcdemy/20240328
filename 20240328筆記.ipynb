{
 "cells": [
  {
   "cell_type": "markdown",
   "id": "a5a65d92-dcc4-42b3-9d65-49896ba20e76",
   "metadata": {},
   "source": [
    "# 20240328筆記"
   ]
  },
  {
   "cell_type": "markdown",
   "id": "f35b1c53-2d2b-4f28-b0fa-b1eb3b661292",
   "metadata": {},
   "source": [
    "## 練習 01\n",
    "\n",
    "請寫一個練習99乘法程式:\n",
    "\n",
    "1. 產生兩個[2, 9]間的整數m, n，\n",
    "2. 請使用者輸入m x n 的計算結果，如果結果正確，\n",
    "3. 印出\"答對了!\"，如果結果錯誤，印出\"答錯了！正確答案是 m x n。\""
   ]
  },
  {
   "cell_type": "code",
   "execution_count": 10,
   "id": "12324962-11cd-45b1-b0d8-28468db16801",
   "metadata": {},
   "outputs": [
    {
     "name": "stdin",
     "output_type": "stream",
     "text": [
      "請問 6 x 4 = ?  25\n"
     ]
    },
    {
     "name": "stdout",
     "output_type": "stream",
     "text": [
      "答錯了！正確答案是 24！\n"
     ]
    }
   ],
   "source": [
    "import random\n",
    "\n",
    "m = random.randint(2, 9)\n",
    "n = random.randint(2, 9)\n",
    "x = input(f\"請問 {m} x {n} = ? \")\n",
    "if int(x) == m*n:\n",
    "    print(\"答對了！\")\n",
    "else:\n",
    "    print(f\"答錯了！正確答案是 {m*n}！\")"
   ]
  },
  {
   "cell_type": "markdown",
   "id": "69e7cda0-9884-44f9-9787-692af04fd2b0",
   "metadata": {},
   "source": [
    "## 練習 02\n",
    "\n",
    "繼續前一個練習，出十個問題並計算使用者答對幾題。"
   ]
  },
  {
   "cell_type": "code",
   "execution_count": null,
   "id": "645d674e-387b-4b7f-9c87-480480e7a4fd",
   "metadata": {},
   "outputs": [],
   "source": [
    "import random\n",
    "\n",
    "count = 0\n",
    "for i in range(5):\n",
    "    m = random.randint(2, 9)\n",
    "    n = random.randint(2, 9)\n",
    "    x = input(f\"請問 {m} x {n} = ? \")\n",
    "    if int(x) == m*n:\n",
    "        print(\"答對了！\")\n",
    "        count += 1\n",
    "    else:\n",
    "        print(f\"答錯了！正確答案是 {m*n}！\")\n",
    "print(f\"您總共答對{count}題！\")"
   ]
  },
  {
   "cell_type": "markdown",
   "id": "926149ba-d0f8-45de-84bb-90e3a41514e4",
   "metadata": {},
   "source": [
    "## 練習 03\n",
    "\n",
    "繼續前一個練習，出十個問題並計算使用者答對幾題，但是這一次要確保題目不會重複。"
   ]
  },
  {
   "cell_type": "code",
   "execution_count": null,
   "id": "8693340e-d9b3-4c7d-a194-8d9e9cb028a1",
   "metadata": {},
   "outputs": [],
   "source": [
    "import random\n",
    "\n",
    "count = 0\n",
    "for i in range(5):\n",
    "    m = random.randint(2, 9)\n",
    "    n = random.randint(2, 9)\n",
    "    x = input(f\"請問 {m} x {n} = ? \")\n",
    "    if int(x) == m*n:\n",
    "        print(\"答對了！\")\n",
    "        count += 1\n",
    "    else:\n",
    "        print(f\"答錯了！正確答案是 {m*n}！\")\n",
    "print(f\"您總共答對{count}題！\")"
   ]
  },
  {
   "cell_type": "code",
   "execution_count": 11,
   "id": "b03da6ee-9253-4ae0-8791-fa5fe5b97207",
   "metadata": {},
   "outputs": [],
   "source": [
    "questions = []\n",
    "questions.append((3, 8))\n",
    "questions.append((6, 4))"
   ]
  },
  {
   "cell_type": "code",
   "execution_count": 12,
   "id": "99cac4a3-f50c-4bde-bfd8-d23c5b90a67c",
   "metadata": {},
   "outputs": [
    {
     "data": {
      "text/plain": [
       "True"
      ]
     },
     "execution_count": 12,
     "metadata": {},
     "output_type": "execute_result"
    }
   ],
   "source": [
    "(3, 8) in questions"
   ]
  },
  {
   "cell_type": "code",
   "execution_count": 15,
   "id": "a6dce858-9403-4ca4-95dd-558c512590cf",
   "metadata": {},
   "outputs": [
    {
     "data": {
      "text/plain": [
       "[(2, 5),\n",
       " (3, 8),\n",
       " (7, 7),\n",
       " (5, 2),\n",
       " (8, 7),\n",
       " (3, 2),\n",
       " (3, 9),\n",
       " (8, 6),\n",
       " (5, 4),\n",
       " (6, 2)]"
      ]
     },
     "execution_count": 15,
     "metadata": {},
     "output_type": "execute_result"
    }
   ],
   "source": [
    "questions = []\n",
    "for i in range(10):\n",
    "    while True:\n",
    "        m = random.randint(2, 9)\n",
    "        n = random.randint(2, 9)\n",
    "        if (m, n) not in questions:\n",
    "            questions.append((m, n))\n",
    "            break\n",
    "\n",
    "questions        "
   ]
  },
  {
   "cell_type": "code",
   "execution_count": null,
   "id": "13886379-d47d-4344-ba27-a9d171c84f7b",
   "metadata": {},
   "outputs": [],
   "source": []
  }
 ],
 "metadata": {
  "kernelspec": {
   "display_name": "Python 3 (ipykernel)",
   "language": "python",
   "name": "python3"
  },
  "language_info": {
   "codemirror_mode": {
    "name": "ipython",
    "version": 3
   },
   "file_extension": ".py",
   "mimetype": "text/x-python",
   "name": "python",
   "nbconvert_exporter": "python",
   "pygments_lexer": "ipython3",
   "version": "3.12.2"
  }
 },
 "nbformat": 4,
 "nbformat_minor": 5
}
